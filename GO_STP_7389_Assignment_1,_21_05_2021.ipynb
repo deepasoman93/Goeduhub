{
  "nbformat": 4,
  "nbformat_minor": 0,
  "metadata": {
    "colab": {
      "name": "GO_STP_7389 Assignment-1, 21/05/2021",
      "provenance": [],
      "collapsed_sections": [],
      "include_colab_link": true
    },
    "kernelspec": {
      "display_name": "Python 3",
      "name": "python3"
    }
  },
  "cells": [
    {
      "cell_type": "markdown",
      "metadata": {
        "id": "view-in-github",
        "colab_type": "text"
      },
      "source": [
        "<a href=\"https://colab.research.google.com/github/deepasoman93/Python_ML_Basics/blob/main/GO_STP_7389_Assignment_1%2C_21_05_2021.ipynb\" target=\"_parent\"><img src=\"https://colab.research.google.com/assets/colab-badge.svg\" alt=\"Open In Colab\"/></a>"
      ]
    },
    {
      "cell_type": "markdown",
      "metadata": {
        "id": "cQI7RtD1Q_bs"
      },
      "source": [
        "Registeration Number : GO_STP_7389\n",
        "Assignment-1, 21/05/2021"
      ]
    },
    {
      "cell_type": "markdown",
      "metadata": {
        "id": "SjnwoKhfPJ-j"
      },
      "source": [
        "1. We are having 3 list like this\n",
        "\n",
        "Colors = [“Yellow”,”Green”,”White”,”Black”]\n",
        "\n",
        "Fruits=[“Apple”,”Papaya”,”Mango”,”Orange”]\n",
        "\n",
        "Animals=[“Tiger”,”Lion”,”Deer”,”Zebra”]\n",
        "\n",
        "  i. Write a program that asks user to enter a Color/Fruit/Animal name and it should tell which category belongs to , like its is a fruit or color or Animal\n",
        "\n",
        " "
      ]
    },
    {
      "cell_type": "code",
      "metadata": {
        "id": "-6LmLrrBPRTD",
        "colab": {
          "base_uri": "https://localhost:8080/"
        },
        "outputId": "6c79a547-2cc4-482a-da8d-838e75fcf8cd"
      },
      "source": [
        "print(\"Yellow\", \"Green\", \"White\", \"Black\", \"Apple\", \"Papaya\", \"Mango\", \"Orange\", \"Tiger\", \"Lion\", \"Deer\", \"Zebra\")\n",
        "x = input(\"Enter a Color/Fruit/Animal name from above list\")\n",
        "Colors = [\"Yellow\", \"Green\", \"White\", \"Black\"]\n",
        "Fruits = [\"Apple\", \"Papaya\", \"Mango\", \"Orange\"]\n",
        "Animals = [\"Tiger\", \"Lion\", \"Deer\", \"Zebra\"]\n",
        "if x in Colors:\n",
        "  print(\"Color\")\n",
        "elif x in Fruits:\n",
        "  print(\"Fruit\")\n",
        "elif x in Animals:\n",
        "  print(\"Animal\")\n",
        "else:\n",
        "  print(x + \" does not belong to any category!!!\")"
      ],
      "execution_count": null,
      "outputs": [
        {
          "output_type": "stream",
          "text": [
            "Yellow Green White Black Apple Papaya Mango Orange Tiger Lion Deer Zebra\n",
            "Enter a Color/Fruit/Animal name from aboveMango\n",
            "Fruits\n"
          ],
          "name": "stdout"
        }
      ]
    },
    {
      "cell_type": "markdown",
      "metadata": {
        "id": "EfhtDEufRdTJ"
      },
      "source": [
        "ii. Write a program that asks user to enter two items and it tells you if they both are in same category or not. For example if I enter yellow and Black, it will print \"Both are colors\" but if I enter yellow and Tiger it should print \"They don't belong to same category\""
      ]
    },
    {
      "cell_type": "code",
      "metadata": {
        "id": "2zon5uEDQHfd",
        "colab": {
          "base_uri": "https://localhost:8080/"
        },
        "outputId": "44e02179-5be1-4e07-8c57-a090accef5bd"
      },
      "source": [
        "print(\"Yellow\", \"Green\", \"White\", \"Black\", \"Apple\", \"Papaya\", \"Mango\", \"Orange\", \"Tiger\", \"Lion\", \"Deer\", \"Zebra\")\n",
        "x = input(\"Enter the 1st name from above list\" )\n",
        "y = input(\"Enter the 2nd name from above list\" )\n",
        "\n",
        "Colors = [\"Yellow\", \"Green\", \"White\", \"Black\"]\n",
        "Fruits = [\"Apple\", \"Papaya\", \"Mango\", \"Orange\"]\n",
        "Animals = [\"Tiger\", \"Lion\", \"Deer\", \"Zebra\"]\n",
        "\n",
        "if (x in Colors) and (y in Colors):\n",
        "  print(\"Both are Colors!!\")\n",
        "elif (x in Fruits) and (y in Fruits):\n",
        "  print(\"Both are Fruits!!\")\n",
        "elif (x in Animals) and (y in Animals):\n",
        "  print(\"Both are Animals!!\")\n",
        "else:\n",
        "  print(\"They don't belong to the same category!!\")"
      ],
      "execution_count": null,
      "outputs": [
        {
          "output_type": "stream",
          "text": [
            "Yellow Green White Black Apple Papaya Mango Orange Tiger Lion Deer Zebra\n",
            "Enter the 1st name from above listApple\n",
            "Enter the 2nd name from above listOrange\n",
            "Both are Fruits!!\n"
          ],
          "name": "stdout"
        }
      ]
    },
    {
      "cell_type": "markdown",
      "metadata": {
        "id": "ztb4oLtFSIdr"
      },
      "source": [
        "2.  Write a python program that can tell you if your grade score good or not . Normal Score range is 40 to 60.\n",
        "\n",
        "  i. Ask user to enter his score.\n",
        "\n",
        "  ii. If it is below 40 to 60 range then print that score is low\n",
        "\n",
        "  iii. If it is above 60 then print that it is good otherwise print that it is normal"
      ]
    },
    {
      "cell_type": "code",
      "metadata": {
        "id": "Mtv_SquRR9tG",
        "colab": {
          "base_uri": "https://localhost:8080/"
        },
        "outputId": "551cb4e9-583b-4bfb-d933-435d1f46b26d"
      },
      "source": [
        "x = float(input(\"Enter your score\" ))\n",
        "if x < 40:\n",
        "  print(\"Your score is low\")\n",
        "elif x > 60:\n",
        "  print(\"Your score is good\")\n",
        "else:\n",
        "  print(\"You have a normal\")"
      ],
      "execution_count": null,
      "outputs": [
        {
          "output_type": "stream",
          "text": [
            "Enter your score79\n",
            "Your score is good\n"
          ],
          "name": "stdout"
        }
      ]
    },
    {
      "cell_type": "markdown",
      "metadata": {
        "id": "bG9eFiFvS9Yw"
      },
      "source": [
        "Hint: Loop Questions\n",
        "\n",
        "3. After appearing in exam 10 times you got this result,\n",
        "\n",
        "result = [\"Pass\",\"Fail\",\"Fail\",\"Pass\",\"Fail\",\"Pass\",\"Pass\",\"Fail\",\"Fail\",\"Fail\"]\n",
        "\n",
        "Using for loop figure out how many times you got Pass"
      ]
    },
    {
      "cell_type": "code",
      "metadata": {
        "id": "LFI9iLj0S21M",
        "colab": {
          "base_uri": "https://localhost:8080/"
        },
        "outputId": "089cf8d4-c42c-4376-a970-2d9be50bd382"
      },
      "source": [
        "Result = [\"Pass\", \"Fail\", \"Fail\", \"Pass\", \"Fail\", \"Pass\", \"Pass\", \"Fail\", \"Fail\", \"Fail\"]\n",
        "count = 0\n",
        "for i in Result:\n",
        "  if i == \"Pass\":\n",
        "    count = count + 1\n",
        "print(\"Number of times exam {} passed.\".format(count))"
      ],
      "execution_count": null,
      "outputs": [
        {
          "output_type": "stream",
          "text": [
            "Number of times exam 4 passed.\n"
          ],
          "name": "stdout"
        }
      ]
    },
    {
      "cell_type": "markdown",
      "metadata": {
        "id": "iB7R6CaGTguL"
      },
      "source": [
        "4.  Write a program that prints following shape\n",
        "\n",
        "*\n",
        "\n",
        "* *\n",
        "\n",
        "* * *\n",
        "\n",
        "* * * *\n",
        "\n",
        "* * * * *\n",
        "\n",
        "* * * *\n",
        "\n",
        "* * *\n",
        "\n",
        "* *\n",
        "\n",
        "*\n"
      ]
    },
    {
      "cell_type": "code",
      "metadata": {
        "id": "7-aK-7WHTeA7",
        "colab": {
          "base_uri": "https://localhost:8080/"
        },
        "outputId": "31ba2b27-1114-48f0-fa88-e80bca86e724"
      },
      "source": [
        "for i in range(1, 6):\n",
        "    print(\"* \" * i)\n",
        "    print(\" \")\n",
        "for i in range(4, 0, -1):\n",
        "    print(\"* \" * i)\n",
        "    print(\" \")"
      ],
      "execution_count": null,
      "outputs": [
        {
          "output_type": "stream",
          "text": [
            "* \n",
            " \n",
            "* * \n",
            " \n",
            "* * * \n",
            " \n",
            "* * * * \n",
            " \n",
            "* * * * * \n",
            " \n",
            "* * * * \n",
            " \n",
            "* * * \n",
            " \n",
            "* * \n",
            " \n",
            "* \n",
            " \n"
          ],
          "name": "stdout"
        }
      ]
    },
    {
      "cell_type": "markdown",
      "metadata": {
        "id": "Hd_nqJStT8I3"
      },
      "source": [
        "5.   Lets say you are running a 50 km race. Write a program that,\n",
        "\n",
        "Upon completing each 10 km asks you \"are you tired?\"\n",
        "If you reply \"yes\" then it should break and print \"you didn't finish the race\"\n",
        " If you reply \"no\" then it should continue and ask \"are you tired\" on every km\n",
        "If you finish all 50 km then it should print congratulations message"
      ]
    },
    {
      "cell_type": "code",
      "metadata": {
        "id": "HzHsoLwwTyNW",
        "colab": {
          "base_uri": "https://localhost:8080/"
        },
        "outputId": "8cbc7839-8d52-4c80-f71c-ac7249db4cfb"
      },
      "source": [
        "dist = 50\n",
        "intl = 10\n",
        "laps = dist // intl\n",
        "count = 0\n",
        "for i in range(laps-1):\n",
        "  x = input(\"Are you tired?Yes/No\" )\n",
        "  if x == \"Yes\":\n",
        "    print(\"You didn't finish the race. You have completed only {} laps\".format(i+1))\n",
        "    break\n",
        "  elif x == \"No\":\n",
        "    count = count + 1\n",
        "    continue\n",
        "if count == 4:\n",
        "  print(\"Congratulations, you have finished the race\")"
      ],
      "execution_count": null,
      "outputs": [
        {
          "output_type": "stream",
          "text": [
            "Are you tired?Yes/NoYes\n",
            "You didn't finish the race. You have completed only 1 laps\n"
          ],
          "name": "stdout"
        }
      ]
    },
    {
      "cell_type": "markdown",
      "metadata": {
        "id": "UcJCcHz5VAza"
      },
      "source": [
        "6.  Write a Python program to find those numbers which are divisible by 7 and multiple of 5, between 1500 and 2700 (both included)."
      ]
    },
    {
      "cell_type": "code",
      "metadata": {
        "id": "7WomxHkbUchi",
        "colab": {
          "base_uri": "https://localhost:8080/"
        },
        "outputId": "1d39b3b3-fb9f-4e50-f8c3-e027f9958df7"
      },
      "source": [
        "print(\"The numbers which are divisible by 7 and multiple of 5, between 1500 and 2700\")\n",
        "for i in range(1500, 2701):\n",
        "  if (i % 7 == 0) and (i % 5 == 0):\n",
        "    print(i)"
      ],
      "execution_count": null,
      "outputs": [
        {
          "output_type": "stream",
          "text": [
            "The numbers which are divisible by 7 and multiple of 5, between 1500 and 2700\n",
            "1505\n",
            "1540\n",
            "1575\n",
            "1610\n",
            "1645\n",
            "1680\n",
            "1715\n",
            "1750\n",
            "1785\n",
            "1820\n",
            "1855\n",
            "1890\n",
            "1925\n",
            "1960\n",
            "1995\n",
            "2030\n",
            "2065\n",
            "2100\n",
            "2135\n",
            "2170\n",
            "2205\n",
            "2240\n",
            "2275\n",
            "2310\n",
            "2345\n",
            "2380\n",
            "2415\n",
            "2450\n",
            "2485\n",
            "2520\n",
            "2555\n",
            "2590\n",
            "2625\n",
            "2660\n",
            "2695\n"
          ],
          "name": "stdout"
        }
      ]
    },
    {
      "cell_type": "markdown",
      "metadata": {
        "id": "XDhVRHQeVeRQ"
      },
      "source": [
        "7.   Print square of all numbers between 10 to 20 except even numbers"
      ]
    },
    {
      "cell_type": "code",
      "metadata": {
        "id": "yrScG9viVXyT",
        "colab": {
          "base_uri": "https://localhost:8080/"
        },
        "outputId": "c3449961-dd58-4d00-ced7-07069962cf06"
      },
      "source": [
        "print(\"The square of all numbers between 10 to 20 except even numbers\")\n",
        "for i in range(10, 21):\n",
        "  if i % 2 != 0:\n",
        "    print(i ** 2)"
      ],
      "execution_count": null,
      "outputs": [
        {
          "output_type": "stream",
          "text": [
            "The square of all numbers between 10 to 20 except even numbers\n",
            "121\n",
            "169\n",
            "225\n",
            "289\n",
            "361\n"
          ],
          "name": "stdout"
        }
      ]
    },
    {
      "cell_type": "markdown",
      "metadata": {
        "id": "XJ5RiqjcV2Z1"
      },
      "source": [
        "8. Your Marks for five Test(test1 to test5) looks like this,\n",
        "\n",
        "marks_list = [65, 75, 2100, 95, 83]\n",
        "\n",
        "Write a program that asks you to enter marks and program should tell you in which test that marks occurred. If marks is not found then it should print that as well."
      ]
    },
    {
      "cell_type": "code",
      "metadata": {
        "id": "4ZCGFZg4V7eM",
        "colab": {
          "base_uri": "https://localhost:8080/"
        },
        "outputId": "be70f57e-1f56-4f22-ae27-99970b38c6e8"
      },
      "source": [
        "x = int(input(\"Enter your mark\"))\n",
        "marks_list = [65, 75, 2100, 95, 83]\n",
        "if x in marks_list:\n",
        "  idx = marks_list.index(x)\n",
        "  print(\"You have got {} marks in Test {}.\".format(x, idx+1))\n",
        "else:\n",
        "  print(\"Mark {} not found!!\".format(x))"
      ],
      "execution_count": null,
      "outputs": [
        {
          "output_type": "stream",
          "text": [
            "Enter your mark2100\n",
            "You have got 2100 marks in Test 3.\n"
          ],
          "name": "stdout"
        }
      ]
    },
    {
      "cell_type": "code",
      "metadata": {
        "id": "2db0xg8dWFw3"
      },
      "source": [
        ""
      ],
      "execution_count": null,
      "outputs": []
    }
  ]
}