{
  "nbformat": 4,
  "nbformat_minor": 0,
  "metadata": {
    "colab": {
      "name": "GO_STP_7389-Assignment-3",
      "provenance": [],
      "collapsed_sections": [],
      "authorship_tag": "ABX9TyNsqiDGCSv7PvLbw+Uj383q",
      "include_colab_link": true
    },
    "kernelspec": {
      "name": "python3",
      "display_name": "Python 3"
    },
    "language_info": {
      "name": "python"
    }
  },
  "cells": [
    {
      "cell_type": "markdown",
      "metadata": {
        "id": "view-in-github",
        "colab_type": "text"
      },
      "source": [
        "<a href=\"https://colab.research.google.com/github/deepasoman93/Python_ML_Basics/blob/main/GO_STP_7389_Assignment_3.ipynb\" target=\"_parent\"><img src=\"https://colab.research.google.com/assets/colab-badge.svg\" alt=\"Open In Colab\"/></a>"
      ]
    },
    {
      "cell_type": "markdown",
      "metadata": {
        "id": "YV3blPif6Kho"
      },
      "source": [
        "# Assignment-3 | Python Dictionary Sets"
      ]
    },
    {
      "cell_type": "markdown",
      "metadata": {
        "id": "9UVs3PXL6dNs"
      },
      "source": [
        "1. Write a Python Program to sort (ascending and descending) a dictionary by value. "
      ]
    },
    {
      "cell_type": "code",
      "metadata": {
        "id": "pBvLXb465jIi"
      },
      "source": [
        "import operator"
      ],
      "execution_count": null,
      "outputs": []
    },
    {
      "cell_type": "code",
      "metadata": {
        "colab": {
          "base_uri": "https://localhost:8080/"
        },
        "id": "dCbHQO2s6zSo",
        "outputId": "c0ee50ce-f14b-4b06-b556-a99f64f43282"
      },
      "source": [
        "a = {'a':1,'e':6,'c':3,'d':5,'b':2}\n",
        "ascend = sorted(a.items(), key=operator.itemgetter(1))\n",
        "print('Elements in Ascending Order: ',ascend)"
      ],
      "execution_count": null,
      "outputs": [
        {
          "output_type": "stream",
          "text": [
            "Ascending Order Is :  [('a', 1), ('b', 2), ('c', 3), ('d', 5), ('e', 6)]\n"
          ],
          "name": "stdout"
        }
      ]
    },
    {
      "cell_type": "code",
      "metadata": {
        "colab": {
          "base_uri": "https://localhost:8080/"
        },
        "id": "QnZwOzb57XDV",
        "outputId": "a85292be-ceab-4527-e6c5-bef737f74ea2"
      },
      "source": [
        "a = {'a':1,'e':6,'c':3,'d':5,'b':2}\n",
        "des = sorted(a.items(), key=operator.itemgetter(1),  reverse=True)\n",
        "print('Elements in decending Order: ', des)"
      ],
      "execution_count": null,
      "outputs": [
        {
          "output_type": "stream",
          "text": [
            "Elements in decending Order:  [('e', 6), ('d', 5), ('c', 3), ('b', 2), ('a', 1)]\n"
          ],
          "name": "stdout"
        }
      ]
    },
    {
      "cell_type": "markdown",
      "metadata": {
        "id": "GqceOdkN79fR"
      },
      "source": [
        "2. Write a Python Program to add a key to a dictionary. \n",
        "Sample Dictionary : {0: 10, 1: 20}\n",
        "Expected Result : {0: 10, 1: 20, 2: 30}"
      ]
    },
    {
      "cell_type": "code",
      "metadata": {
        "colab": {
          "base_uri": "https://localhost:8080/"
        },
        "id": "WuM05IQZ76VT",
        "outputId": "a32a029b-5444-42eb-adf4-e4378cbf85f7"
      },
      "source": [
        "a = {0: 10, 1: 20}\n",
        "print('Before update:', a)\n",
        "a.update({2: 30})\n",
        "print('After update:', a)"
      ],
      "execution_count": null,
      "outputs": [
        {
          "output_type": "stream",
          "text": [
            "Before update: {0: 10, 1: 20}\n",
            "After update: {0: 10, 1: 20, 2: 30}\n"
          ],
          "name": "stdout"
        }
      ]
    },
    {
      "cell_type": "markdown",
      "metadata": {
        "id": "YaauzP6y9PwY"
      },
      "source": [
        "3. Write a  program asks for City name and Temperature and builds a dictionary using that Later on you can input City name and it will tell you the Temperature of that City."
      ]
    },
    {
      "cell_type": "code",
      "metadata": {
        "colab": {
          "base_uri": "https://localhost:8080/"
        },
        "id": "bGl_FsYg8q9J",
        "outputId": "010d4fa9-7449-46cb-fe2e-69169ca7a8c3"
      },
      "source": [
        "citytemp = dict()\n",
        "n = int(input('Enter The Number Of Cities : '))\n",
        "for i in range(n):\n",
        "  city = input('Enter name of the city : ')\n",
        "  temp = int(input('Enter the temperature of the city : '))\n",
        "  citytemp[city] = temp\n",
        "print('Created Dictionary Is : ',citytemp)\n",
        "city_name = input('Enter Name Of The City To Check Temperature Of It : ')\n",
        "print('Temperature Of The City Is : ',citytemp[city_name])"
      ],
      "execution_count": null,
      "outputs": [
        {
          "output_type": "stream",
          "text": [
            "Enter The Number Of Cities : 5\n",
            "Enter name of the city : america\n",
            "Enter the temperature of the city : 36\n",
            "Enter name of the city : Delhi\n",
            "Enter the temperature of the city : 45\n",
            "Enter name of the city : Mumbai\n",
            "Enter the temperature of the city : 37\n",
            "Enter name of the city : Paris\n",
            "Enter the temperature of the city : 23\n",
            "Enter name of the city : Africa\n",
            "Enter the temperature of the city : 56\n",
            "Created Dictionary Is :  {'america': 36, 'Delhi': 45, 'Mumbai': 37, 'Paris': 23, 'Africa': 56}\n",
            "Enter Name Of The City To Check Temperature Of It : Paris\n",
            "Temperature Of The City Is :  23\n"
          ],
          "name": "stdout"
        }
      ]
    },
    {
      "cell_type": "markdown",
      "metadata": {
        "id": "KU78r2ge__FE"
      },
      "source": [
        "4 Write a Python program to convert list to list of dictionaries.\n",
        "Sample lists: [\"Black\", \"Red\", \"Maroon\", \"Yellow\"], \n",
        "[\"#000000\", \"#FF0000\", \"#800000\", \"#FFFF00\"]\n",
        "\n",
        "Expected Output: [{'color_name': 'Black', 'color_code': '#000000'}, \n",
        "                  {'color_name': 'Red', 'color_code': '#FF0000'},\n",
        "                  {'color_name': 'Maroon', 'color_code': '#800000'},\n",
        "                  {'color_name': 'Yellow', 'color_code': '#FFFF00'}]"
      ]
    },
    {
      "cell_type": "code",
      "metadata": {
        "colab": {
          "base_uri": "https://localhost:8080/"
        },
        "id": "6cFy51vB-zVL",
        "outputId": "136e75e5-3bab-4b01-f3dc-f672d4187180"
      },
      "source": [
        "list1 = [\"Black\", \"Red\", \"Maroon\", \"Yellow\"]\n",
        "list2 = [\"#000000\", \"#FF0000\", \"#800000\", \"#FFFF00\"]\n",
        "print([{'Colour': a, 'Code': b} for a, b in zip(list1, list2)])"
      ],
      "execution_count": null,
      "outputs": [
        {
          "output_type": "stream",
          "text": [
            "[{'Colour': 'Black', 'Code': '#000000'}, {'Colour': 'Red', 'Code': '#FF0000'}, {'Colour': 'Maroon', 'Code': '#800000'}, {'Colour': 'Yellow', 'Code': '#FFFF00'}]\n"
          ],
          "name": "stdout"
        }
      ]
    },
    {
      "cell_type": "markdown",
      "metadata": {
        "id": "UbL02v-hA4ci"
      },
      "source": [
        " 5. We have following information on Employees and their Salary (Salary is in lakhs),\n",
        "\n",
        "Employee\tSalary\n",
        "John\t14\n",
        "Smith\t13\n",
        "Alice\t32\n",
        "Daneil\t21\n",
        "\n",
        "1. Using above create a dictionary of Employees and their Salary\n",
        "\n",
        "2. Write a program that asks user for three type of inputs,\n",
        "\n",
        "a. print: if user enter print then it should print all Employees with their Salary in this format,\n",
        "John ==>14\n",
        "Smith ==>13\n",
        "Alice ==>32\n",
        "Daneil ==>21\n",
        "\n",
        "b. add: if user input adds then it should further ask for an Employee name to add. If Employee already exists in our dataset then it should print that it exists and do nothing. If it doesn't then it asks for Salary and add that new Employee/Salary in our dictionary and print it\n",
        "\n",
        "c. remove: when user inputs remove it should ask for an Employee to remove. If an Employee exists in our dictionary then remove it and print a new dictionary using format shown above in (a). Else print that Employee doesn't exist!\n",
        "\n",
        "d. query: on this again ask the user for which Employee he or she wants to query. When a user inputs that Employee it will print the Salary of that Employee."
      ]
    },
    {
      "cell_type": "code",
      "metadata": {
        "colab": {
          "base_uri": "https://localhost:8080/"
        },
        "id": "GPzPvkyxAo6T",
        "outputId": "c44f02b1-c150-4497-e593-788d8e36c155"
      },
      "source": [
        "dic = {'John':1400000, 'Smith':1300000, 'Alice':3200000, 'Daniel':3200000}\n",
        "print('Employee And Their Salaries', dic)"
      ],
      "execution_count": null,
      "outputs": [
        {
          "output_type": "stream",
          "text": [
            "Employee And Their Salaries {'John': 1400000, 'Smith': 1300000, 'Alice': 3200000, 'Daniel': 3200000}\n"
          ],
          "name": "stdout"
        }
      ]
    },
    {
      "cell_type": "code",
      "metadata": {
        "colab": {
          "base_uri": "https://localhost:8080/"
        },
        "id": "S2Xv4aSdB6Bc",
        "outputId": "b6bc9921-4faa-42e3-9bae-dbba032724b7"
      },
      "source": [
        "user_input = input('Select one operation(Print\\Add\\Remove\\Query) : '.title())\n",
        "if user_input=='Print':\n",
        "  for i in dic.items():\n",
        "    print(i[0],'==>',i[1])\n",
        "\n",
        "elif user_input == 'Add':\n",
        "  new_name = input('Enter the name of new employee : ')\n",
        "  if new_name in dic.keys():\n",
        "    print('This employee is already exsist')\n",
        "  else:\n",
        "    new_sal = int(input('Enter the salary : '))\n",
        "    dic[new_name]=new_sal\n",
        "    for j in dic.items():\n",
        "      print(j[0],'==>',j[1])\n",
        "\n",
        "elif user_input == 'Remove':\n",
        "  rem = input('Enter employee name : ')\n",
        "  if rem in dic:\n",
        "    del dic[rem]\n",
        "    for k in dic.items():\n",
        "      print(k[0],'==>',k[1])\n",
        "  else:\n",
        "    print('Employee does not exist')\n",
        "\n",
        "elif user_input == 'Query':\n",
        "  s = input('Enter the name of the employee')\n",
        "  if s in dic:\n",
        "    print(dic[s])\n",
        "  else:\n",
        "    print('This employee did not exist')\n",
        "else:\n",
        "  print('Invalid input')"
      ],
      "execution_count": null,
      "outputs": [
        {
          "output_type": "stream",
          "text": [
            "Select One Operation(Print\\Add\\Remove\\Query) : Query\n",
            "Enter the name of the employeeJohn\n",
            "1400000\n"
          ],
          "name": "stdout"
        }
      ]
    },
    {
      "cell_type": "markdown",
      "metadata": {
        "id": "OaT6RtYoDpMV"
      },
      "source": [
        "Questions on Sets-\n"
      ]
    },
    {
      "cell_type": "markdown",
      "metadata": {
        "id": "_iVPmUl-DxdN"
      },
      "source": [
        "1. What is the difference between a set and a frozenset? Create any set and try to use frozenset(setname)?\n",
        "\n",
        "Elements of a set can be modified at any time, elements of the frozen set remain the same after creation. Set Is Mutable."
      ]
    },
    {
      "cell_type": "code",
      "metadata": {
        "colab": {
          "base_uri": "https://localhost:8080/"
        },
        "id": "GY9rvTN6Da0b",
        "outputId": "95624c80-a7cf-43fb-f444-857122bea7b9"
      },
      "source": [
        "w = {'Inception'}\n",
        "print(\"set:\", w)\n",
        "w.add(\"Movie\")\n",
        "print(\"After addition:\", w)"
      ],
      "execution_count": null,
      "outputs": [
        {
          "output_type": "stream",
          "text": [
            "set: {'Inception'}\n",
            "After addition: {'Inception', 'Movie'}\n"
          ],
          "name": "stdout"
        }
      ]
    },
    {
      "cell_type": "code",
      "metadata": {
        "colab": {
          "base_uri": "https://localhost:8080/"
        },
        "id": "KcnfobJmFZsB",
        "outputId": "53ddb571-9551-41cc-b7e9-250f4e6d9711"
      },
      "source": [
        "w = ('T','n','e','t')\n",
        "fset = frozenset(w)\n",
        "print('The frozen set is:', fset)\n",
        "%fset.add('v')"
      ],
      "execution_count": null,
      "outputs": [
        {
          "output_type": "stream",
          "text": [
            "The frozen set is: frozenset({'t', 'T', 'e', 'n'})\n"
          ],
          "name": "stdout"
        },
        {
          "output_type": "stream",
          "text": [
            "UsageError: Line magic function `%fset.add` not found.\n"
          ],
          "name": "stderr"
        }
      ]
    },
    {
      "cell_type": "markdown",
      "metadata": {
        "id": "HO9lYL0hGj3T"
      },
      "source": [
        "2 Find the elements in a given set that are not in another set\n",
        "set1 = {10,20,30,40,50}\n",
        "set2 = {40,50,60,70,80}\n",
        "Difference between set1 and set2 is {10,20,30}"
      ]
    },
    {
      "cell_type": "code",
      "metadata": {
        "colab": {
          "base_uri": "https://localhost:8080/"
        },
        "id": "xgX-Jl9DGQ2s",
        "outputId": "e49b9a95-b96b-4782-f12a-4599047aea08"
      },
      "source": [
        "set1 = {10,20,30,40,50}\n",
        "set2 = {40,50,60,70,80}\n",
        "print(set1.difference(set2))"
      ],
      "execution_count": null,
      "outputs": [
        {
          "output_type": "stream",
          "text": [
            "{10, 20, 30}\n"
          ],
          "name": "stdout"
        }
      ]
    },
    {
      "cell_type": "code",
      "metadata": {
        "id": "5E_OQcDDGzF7"
      },
      "source": [
        ""
      ],
      "execution_count": null,
      "outputs": []
    }
  ]
}