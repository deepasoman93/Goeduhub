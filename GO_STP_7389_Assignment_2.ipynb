{
  "nbformat": 4,
  "nbformat_minor": 0,
  "metadata": {
    "colab": {
      "name": "GO_STP_7389-Assignment-2",
      "provenance": [],
      "collapsed_sections": [],
      "authorship_tag": "ABX9TyNKSCGqn2nxb4FXU78AkcMn",
      "include_colab_link": true
    },
    "kernelspec": {
      "name": "python3",
      "display_name": "Python 3"
    },
    "language_info": {
      "name": "python"
    }
  },
  "cells": [
    {
      "cell_type": "markdown",
      "metadata": {
        "id": "view-in-github",
        "colab_type": "text"
      },
      "source": [
        "<a href=\"https://colab.research.google.com/github/deepasoman93/Python_ML_Basics/blob/main/GO_STP_7389_Assignment_2.ipynb\" target=\"_parent\"><img src=\"https://colab.research.google.com/assets/colab-badge.svg\" alt=\"Open In Colab\"/></a>"
      ]
    },
    {
      "cell_type": "markdown",
      "metadata": {
        "id": "Xthcmp0tarWu"
      },
      "source": [
        "# **Assignment-2 | Python List**"
      ]
    },
    {
      "cell_type": "markdown",
      "metadata": {
        "id": "uQWP1NGna__8"
      },
      "source": [
        "1. Is a list mutable?\n",
        "Yes."
      ]
    },
    {
      "cell_type": "code",
      "metadata": {
        "colab": {
          "base_uri": "https://localhost:8080/"
        },
        "id": "WU_8jAvUaS4N",
        "outputId": "e798202f-dca8-41dc-aafe-409670840a75"
      },
      "source": [
        "a = [1,2,3,4,5]\n",
        "a[1] = 'Two'\n",
        "print(a)"
      ],
      "execution_count": null,
      "outputs": [
        {
          "output_type": "stream",
          "text": [
            "[1, 'Two', 3, 4, 5]\n"
          ],
          "name": "stdout"
        }
      ]
    },
    {
      "cell_type": "markdown",
      "metadata": {
        "id": "oHxSCV9kbRyh"
      },
      "source": [
        "2. Does a list need to be homogeneous?\n",
        "No."
      ]
    },
    {
      "cell_type": "code",
      "metadata": {
        "colab": {
          "base_uri": "https://localhost:8080/"
        },
        "id": "_YFGyatJbNpn",
        "outputId": "aabeba85-e39a-4507-82d2-7b29317babc3"
      },
      "source": [
        "a = [1,2.8,3,4,{5,'kind'}]\n",
        "print(a)"
      ],
      "execution_count": null,
      "outputs": [
        {
          "output_type": "stream",
          "text": [
            "[1, 2.8, 3, 4, {5, 'kind'}]\n"
          ],
          "name": "stdout"
        }
      ]
    },
    {
      "cell_type": "markdown",
      "metadata": {
        "id": "AqDWlu0FcFM7"
      },
      "source": [
        "3. What is the difference between a list and a tuple?\n",
        "List is Mutable but Tuple is Immutable."
      ]
    },
    {
      "cell_type": "code",
      "metadata": {
        "colab": {
          "base_uri": "https://localhost:8080/"
        },
        "id": "-ClDhc9wb52j",
        "outputId": "235eae92-0564-4f56-f500-38e44ef7227b"
      },
      "source": [
        "print('List')\n",
        "a = [1,2.8,3,4,{5,'kind'}]\n",
        "a[1] = 'Two'\n",
        "print(a)\n",
        "\n",
        "print('Tuple')\n",
        "b = (1,2.8,3,4,8)\n",
        "%b[1] = 'Two'\n",
        "print(b)"
      ],
      "execution_count": null,
      "outputs": [
        {
          "output_type": "stream",
          "text": [
            "List\n",
            "[1, 'Two', 3, 4, {5, 'kind'}]\n",
            "Tuple\n"
          ],
          "name": "stdout"
        },
        {
          "output_type": "stream",
          "text": [
            "UsageError: Line magic function `%b` not found.\n"
          ],
          "name": "stderr"
        }
      ]
    },
    {
      "cell_type": "markdown",
      "metadata": {
        "id": "qGOmBBV1dVBq"
      },
      "source": [
        "4. How to find the number of elements in the list?"
      ]
    },
    {
      "cell_type": "code",
      "metadata": {
        "colab": {
          "base_uri": "https://localhost:8080/"
        },
        "id": "z_J-eepHc6DR",
        "outputId": "e07d17b6-3e1d-4877-abde-823ea03b9526"
      },
      "source": [
        "a = [1,2.8,3,4,{5,'kind'}]\n",
        "len(a)"
      ],
      "execution_count": null,
      "outputs": [
        {
          "output_type": "execute_result",
          "data": {
            "text/plain": [
              "5"
            ]
          },
          "metadata": {
            "tags": []
          },
          "execution_count": 8
        }
      ]
    },
    {
      "cell_type": "markdown",
      "metadata": {
        "id": "gvKC69jvdzPZ"
      },
      "source": [
        "5. How to check whether the list is empty or not?"
      ]
    },
    {
      "cell_type": "code",
      "metadata": {
        "id": "H1OMKSQVdwup"
      },
      "source": [
        "a = [1,2.8,3,4,{5,'kind'}]\n",
        "if len(a) == 0:\n",
        "    print('the list is empty')"
      ],
      "execution_count": null,
      "outputs": []
    },
    {
      "cell_type": "markdown",
      "metadata": {
        "id": "gPdHTcmnep-l"
      },
      "source": [
        "6. How to find the first and last element of the list?"
      ]
    },
    {
      "cell_type": "code",
      "metadata": {
        "colab": {
          "base_uri": "https://localhost:8080/"
        },
        "id": "_ptevvoQeicG",
        "outputId": "4e322d1b-f79b-4220-c13e-e32ea01209c7"
      },
      "source": [
        "a = [1,2.8,3,4,{5,'kind'}]\n",
        "print(\"First element:\", a[0])\n",
        "print(\"Last element:\", a[-1])"
      ],
      "execution_count": null,
      "outputs": [
        {
          "output_type": "stream",
          "text": [
            "First element: 1\n",
            "Last element: {5, 'kind'}\n"
          ],
          "name": "stdout"
        }
      ]
    },
    {
      "cell_type": "markdown",
      "metadata": {
        "id": "UMWsNOWngPB4"
      },
      "source": [
        "7. How to find the largest and lowest value in the list?"
      ]
    },
    {
      "cell_type": "code",
      "metadata": {
        "colab": {
          "base_uri": "https://localhost:8080/"
        },
        "id": "5kbuBZf0fHfJ",
        "outputId": "899cd9c6-dabf-4417-9e88-19c14f20fe43"
      },
      "source": [
        "a = [1,2.8,3,4,5]\n",
        "res=[max(a), min(a)]\n",
        "print(\"Largest and the lowest values are:\", res)"
      ],
      "execution_count": null,
      "outputs": [
        {
          "output_type": "stream",
          "text": [
            "Largest and the lowest values are: [5, 1]\n"
          ],
          "name": "stdout"
        }
      ]
    },
    {
      "cell_type": "markdown",
      "metadata": {
        "id": "S4KW9oxVh2BS"
      },
      "source": [
        "8. How to access elements of the list?"
      ]
    },
    {
      "cell_type": "code",
      "metadata": {
        "colab": {
          "base_uri": "https://localhost:8080/"
        },
        "id": "99itt_uJgshj",
        "outputId": "57468e47-aaa1-4dd9-f711-54185b2f16bf"
      },
      "source": [
        "a = [1,2.8,3,4,{5,'kind'}]\n",
        "print(\"First element:\", a[0])\n",
        "print(\"Elements are:\", a[0:4])"
      ],
      "execution_count": null,
      "outputs": [
        {
          "output_type": "stream",
          "text": [
            "First element: 1\n",
            "Elements are: [1, 2.8, 3, 4]\n"
          ],
          "name": "stdout"
        }
      ]
    },
    {
      "cell_type": "markdown",
      "metadata": {
        "id": "fm0DWK_NitUs"
      },
      "source": [
        "9. Remove elements in a list before a specific index."
      ]
    },
    {
      "cell_type": "code",
      "metadata": {
        "colab": {
          "base_uri": "https://localhost:8080/"
        },
        "id": "tqlHxGPHijFo",
        "outputId": "39f933a3-b934-495a-9570-548bdd90d3a8"
      },
      "source": [
        "a = [1,2.8,3,4,{5,'kind'}]\n",
        "print(\"List before\", a)\n",
        "del a[2:4] \n",
        "print(\"List after\", a)"
      ],
      "execution_count": null,
      "outputs": [
        {
          "output_type": "stream",
          "text": [
            "List before [1, 2.8, 3, 4, {5, 'kind'}]\n",
            "List after [1, 2.8, {5, 'kind'}]\n"
          ],
          "name": "stdout"
        }
      ]
    },
    {
      "cell_type": "markdown",
      "metadata": {
        "id": "JQ-5piQajkwA"
      },
      "source": [
        "10. Remove elements in a list between 2 indices"
      ]
    },
    {
      "cell_type": "code",
      "metadata": {
        "colab": {
          "base_uri": "https://localhost:8080/"
        },
        "id": "an92mXJYjFwE",
        "outputId": "f8b87e14-bec0-424c-c21c-8a23481e7169"
      },
      "source": [
        "a = [1,2.8,3,4,{5,'kind'}]\n",
        "print(\"List\", a)\n",
        "a[::2]"
      ],
      "execution_count": null,
      "outputs": [
        {
          "output_type": "stream",
          "text": [
            "List [1, 2.8, 3, 4, {5, 'kind'}]\n"
          ],
          "name": "stdout"
        },
        {
          "output_type": "execute_result",
          "data": {
            "text/plain": [
              "[1, 3, {5, 'kind'}]"
            ]
          },
          "metadata": {
            "tags": []
          },
          "execution_count": 33
        }
      ]
    },
    {
      "cell_type": "markdown",
      "metadata": {
        "id": "mkCsZ9vakRw2"
      },
      "source": [
        "12. Get the first element from each nested list in a list"
      ]
    },
    {
      "cell_type": "code",
      "metadata": {
        "colab": {
          "base_uri": "https://localhost:8080/"
        },
        "id": "cXiTIe4lj0tW",
        "outputId": "2e56db5b-40d4-4cab-96ed-925ae39ef19c"
      },
      "source": [
        "def fir(a):\n",
        "  return [items[0] for items in a]\n",
        "a = [[1, 2], [13, 14, 15], [26, 27, 28, 29]]\n",
        "print(fir(a))"
      ],
      "execution_count": null,
      "outputs": [
        {
          "output_type": "stream",
          "text": [
            "[1, 13, 26]\n"
          ],
          "name": "stdout"
        }
      ]
    },
    {
      "cell_type": "markdown",
      "metadata": {
        "id": "l86-H9bQkpb_"
      },
      "source": [
        "13. How to modify elements of the list?"
      ]
    },
    {
      "cell_type": "code",
      "metadata": {
        "colab": {
          "base_uri": "https://localhost:8080/"
        },
        "id": "OB6B4ISWkhyB",
        "outputId": "9d3b2987-a8b3-4f81-cc81-d73bc1e3801e"
      },
      "source": [
        "a = [1,2,3,4,5]\n",
        "print(\"List before\", a)\n",
        "a[1] = 'Two'\n",
        "print(\"Now\",a)"
      ],
      "execution_count": null,
      "outputs": [
        {
          "output_type": "stream",
          "text": [
            "List before [1, 2, 3, 4, 5]\n",
            "Now [1, 'Two', 3, 4, 5]\n"
          ],
          "name": "stdout"
        }
      ]
    },
    {
      "cell_type": "markdown",
      "metadata": {
        "id": "mp5asfctlCVD"
      },
      "source": [
        "14. How to concatenate two lists?"
      ]
    },
    {
      "cell_type": "code",
      "metadata": {
        "colab": {
          "base_uri": "https://localhost:8080/"
        },
        "id": "aKUeDToFk0gn",
        "outputId": "94df3ef8-6f9b-4341-c7e2-2a5b6c4b4841"
      },
      "source": [
        "a = [1,2,3,4,5]\n",
        "print(a)\n",
        "b = ['ab','cd','ef','gf']\n",
        "print(b)\n",
        "print(a+b)"
      ],
      "execution_count": null,
      "outputs": [
        {
          "output_type": "stream",
          "text": [
            "[1, 2, 3, 4, 5]\n",
            "['ab', 'cd', 'ef', 'gf']\n",
            "[1, 2, 3, 4, 5, 'ab', 'cd', 'ef', 'gf']\n"
          ],
          "name": "stdout"
        }
      ]
    },
    {
      "cell_type": "markdown",
      "metadata": {
        "id": "jy3UGrv0ljN0"
      },
      "source": [
        "15. How to add two lists element-wise in python?"
      ]
    },
    {
      "cell_type": "code",
      "metadata": {
        "colab": {
          "base_uri": "https://localhost:8080/"
        },
        "id": "UxF4p6N7laQR",
        "outputId": "a7227245-c78d-4f0f-9d5b-71b9ec6a8f34"
      },
      "source": [
        "a = [1,2,3]\n",
        "print(a)\n",
        "b = [100,200,300]\n",
        "print(b)\n",
        "sum_l = []\n",
        "for (a, b) in zip(a, b):\n",
        "    sum_l.append(a+b)\n",
        "print(sum_l)"
      ],
      "execution_count": null,
      "outputs": [
        {
          "output_type": "stream",
          "text": [
            "[1, 2, 3]\n",
            "[100, 200, 300]\n",
            "[101, 202, 303]\n"
          ],
          "name": "stdout"
        }
      ]
    },
    {
      "cell_type": "markdown",
      "metadata": {
        "id": "eplp8VSpmYF3"
      },
      "source": [
        "16. Difference between del and clear?"
      ]
    },
    {
      "cell_type": "code",
      "metadata": {
        "colab": {
          "base_uri": "https://localhost:8080/"
        },
        "id": "zgGl9PMKmMMM",
        "outputId": "dafb4bd9-3fc4-49a5-9dbc-d82673dd4684"
      },
      "source": [
        "a = [1,2.8,3,4,{5,'kind'}]\n",
        "print(a)\n",
        "del a[1:3]\n",
        "print(\"After deletion:\", a)\n",
        "\n",
        "b = [1,2.8,3,4,{5,'kind'}]\n",
        "print(b)\n",
        "b.clear()\n",
        "print(\"After clear:\", b)"
      ],
      "execution_count": null,
      "outputs": [
        {
          "output_type": "stream",
          "text": [
            "[1, 2.8, 3, 4, {5, 'kind'}]\n",
            "After deletion: [1, 4, {5, 'kind'}]\n",
            "[1, 2.8, 3, 4, {5, 'kind'}]\n",
            "After clear: []\n"
          ],
          "name": "stdout"
        }
      ]
    },
    {
      "cell_type": "markdown",
      "metadata": {
        "id": "gRxwvatOnYTo"
      },
      "source": [
        "17. Difference between remove and pop?"
      ]
    },
    {
      "cell_type": "code",
      "metadata": {
        "id": "PFq2ATmPnPtR",
        "colab": {
          "base_uri": "https://localhost:8080/"
        },
        "outputId": "f03c38ed-97a9-416d-a0ab-7ab001132bea"
      },
      "source": [
        "a = [1,2.8,3,4,{5,'kind'}]\n",
        "print(a)\n",
        "a.remove(3)\n",
        "print(\"After remove:\", a)\n",
        "\n",
        "b = [1,2.8,3,4,{5,'kind'}]\n",
        "print(b)\n",
        "b.pop(3)\n",
        "print(\"After pop:\", b)"
      ],
      "execution_count": null,
      "outputs": [
        {
          "output_type": "stream",
          "text": [
            "[1, 2.8, 3, 4, {5, 'kind'}]\n",
            "After remove: [1, 2.8, 4, {5, 'kind'}]\n",
            "[1, 2.8, 3, 4, {5, 'kind'}]\n",
            "After pop: [1, 2.8, 3, {5, 'kind'}]\n"
          ],
          "name": "stdout"
        }
      ]
    },
    {
      "cell_type": "markdown",
      "metadata": {
        "id": "cxBvucvBoLN1"
      },
      "source": [
        "18. Difference between append and extend?"
      ]
    },
    {
      "cell_type": "code",
      "metadata": {
        "colab": {
          "base_uri": "https://localhost:8080/"
        },
        "id": "VswklBnnoD_w",
        "outputId": "60c327bd-b8c2-438c-c06c-8ae80294e617"
      },
      "source": [
        "a = [1,2,3,4,5]\n",
        "print(a)\n",
        "b = ['ab','cd','ef','gf']\n",
        "print(b)\n",
        "a.append(b)\n",
        "print(\"After append\",a)\n",
        "\n",
        "\n",
        "a = [1,2,3,4,5]\n",
        "print(a)\n",
        "b = ['ab','cd','ef','gf']\n",
        "print(b)\n",
        "a.extend(b)\n",
        "print(\"After extend\",a)"
      ],
      "execution_count": null,
      "outputs": [
        {
          "output_type": "stream",
          "text": [
            "[1, 2, 3, 4, 5]\n",
            "['ab', 'cd', 'ef', 'gf']\n",
            "After append [1, 2, 3, 4, 5, ['ab', 'cd', 'ef', 'gf']]\n",
            "[1, 2, 3, 4, 5]\n",
            "['ab', 'cd', 'ef', 'gf']\n",
            "After extend [1, 2, 3, 4, 5, 'ab', 'cd', 'ef', 'gf']\n"
          ],
          "name": "stdout"
        }
      ]
    },
    {
      "cell_type": "code",
      "metadata": {
        "id": "xkOGiO-Zo5dg"
      },
      "source": [
        ""
      ],
      "execution_count": null,
      "outputs": []
    }
  ]
}