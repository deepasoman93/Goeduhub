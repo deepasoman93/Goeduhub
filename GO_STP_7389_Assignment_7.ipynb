{
  "nbformat": 4,
  "nbformat_minor": 0,
  "metadata": {
    "colab": {
      "name": "GO_STP_7389 Assignment-7",
      "provenance": [],
      "collapsed_sections": [],
      "authorship_tag": "ABX9TyMydrBfMvs7PKnc5kSxR+sv",
      "include_colab_link": true
    },
    "kernelspec": {
      "name": "python3",
      "display_name": "Python 3"
    },
    "language_info": {
      "name": "python"
    }
  },
  "cells": [
    {
      "cell_type": "markdown",
      "metadata": {
        "id": "view-in-github",
        "colab_type": "text"
      },
      "source": [
        "<a href=\"https://colab.research.google.com/github/deepasoman93/Python_ML_Basics/blob/main/GO_STP_7389_Assignment_7.ipynb\" target=\"_parent\"><img src=\"https://colab.research.google.com/assets/colab-badge.svg\" alt=\"Open In Colab\"/></a>"
      ]
    },
    {
      "cell_type": "markdown",
      "metadata": {
        "id": "gjwCTCQMafLp"
      },
      "source": [
        "# Assignment-7-Simple Linear Regression"
      ]
    },
    {
      "cell_type": "markdown",
      "metadata": {
        "id": "8RowwPZJb4nc"
      },
      "source": [
        "In this task we have to find the students scores based on their study hours. This is a simple Regression problem type because it has only two variables. "
      ]
    },
    {
      "cell_type": "code",
      "metadata": {
        "colab": {
          "base_uri": "https://localhost:8080/"
        },
        "id": "jsop7kdXcSod",
        "outputId": "2cd29b55-8c71-4003-cae2-78370b29eab7"
      },
      "source": [
        "import pandas as pd\n",
        "import io  \n",
        "data = pd.read_csv('/StudentHoursScores.csv')\n",
        "print(data)"
      ],
      "execution_count": null,
      "outputs": [
        {
          "output_type": "stream",
          "text": [
            "    Hours  Scores\n",
            "0     7.7      79\n",
            "1     5.9      60\n",
            "2     4.5      45\n",
            "3     3.3      33\n",
            "4     1.1      12\n",
            "5     8.9      87\n",
            "6     2.5      21\n",
            "7     1.9      19\n",
            "8     2.7      29\n",
            "9     8.3      81\n",
            "10    5.5      58\n",
            "11    9.2      88\n",
            "12    1.5      14\n",
            "13    3.5      34\n",
            "14    8.5      85\n",
            "15    3.2      32\n",
            "16    6.5      66\n",
            "17    2.5      21\n",
            "18    9.6      96\n",
            "19    4.3      42\n",
            "20    4.1      40\n",
            "21    3.0      30\n",
            "22    2.6      25\n"
          ],
          "name": "stdout"
        }
      ]
    },
    {
      "cell_type": "code",
      "metadata": {
        "colab": {
          "base_uri": "https://localhost:8080/",
          "height": 300
        },
        "id": "1PlQh4YafhDE",
        "outputId": "0db073a1-b2c2-4990-9de0-8662ec937b58"
      },
      "source": [
        "data.describe()"
      ],
      "execution_count": null,
      "outputs": [
        {
          "output_type": "execute_result",
          "data": {
            "text/html": [
              "<div>\n",
              "<style scoped>\n",
              "    .dataframe tbody tr th:only-of-type {\n",
              "        vertical-align: middle;\n",
              "    }\n",
              "\n",
              "    .dataframe tbody tr th {\n",
              "        vertical-align: top;\n",
              "    }\n",
              "\n",
              "    .dataframe thead th {\n",
              "        text-align: right;\n",
              "    }\n",
              "</style>\n",
              "<table border=\"1\" class=\"dataframe\">\n",
              "  <thead>\n",
              "    <tr style=\"text-align: right;\">\n",
              "      <th></th>\n",
              "      <th>Hours</th>\n",
              "      <th>Scores</th>\n",
              "    </tr>\n",
              "  </thead>\n",
              "  <tbody>\n",
              "    <tr>\n",
              "      <th>count</th>\n",
              "      <td>23.000000</td>\n",
              "      <td>23.000000</td>\n",
              "    </tr>\n",
              "    <tr>\n",
              "      <th>mean</th>\n",
              "      <td>4.817391</td>\n",
              "      <td>47.695652</td>\n",
              "    </tr>\n",
              "    <tr>\n",
              "      <th>std</th>\n",
              "      <td>2.709688</td>\n",
              "      <td>27.103228</td>\n",
              "    </tr>\n",
              "    <tr>\n",
              "      <th>min</th>\n",
              "      <td>1.100000</td>\n",
              "      <td>12.000000</td>\n",
              "    </tr>\n",
              "    <tr>\n",
              "      <th>25%</th>\n",
              "      <td>2.650000</td>\n",
              "      <td>27.000000</td>\n",
              "    </tr>\n",
              "    <tr>\n",
              "      <th>50%</th>\n",
              "      <td>4.100000</td>\n",
              "      <td>40.000000</td>\n",
              "    </tr>\n",
              "    <tr>\n",
              "      <th>75%</th>\n",
              "      <td>7.100000</td>\n",
              "      <td>72.500000</td>\n",
              "    </tr>\n",
              "    <tr>\n",
              "      <th>max</th>\n",
              "      <td>9.600000</td>\n",
              "      <td>96.000000</td>\n",
              "    </tr>\n",
              "  </tbody>\n",
              "</table>\n",
              "</div>"
            ],
            "text/plain": [
              "           Hours     Scores\n",
              "count  23.000000  23.000000\n",
              "mean    4.817391  47.695652\n",
              "std     2.709688  27.103228\n",
              "min     1.100000  12.000000\n",
              "25%     2.650000  27.000000\n",
              "50%     4.100000  40.000000\n",
              "75%     7.100000  72.500000\n",
              "max     9.600000  96.000000"
            ]
          },
          "metadata": {
            "tags": []
          },
          "execution_count": 39
        }
      ]
    },
    {
      "cell_type": "code",
      "metadata": {
        "colab": {
          "base_uri": "https://localhost:8080/"
        },
        "id": "4q0vpiLDjnjc",
        "outputId": "f606a0c8-4ad5-4b9b-a8c0-86e8d2e2169f"
      },
      "source": [
        "X = data.iloc[:,0:-1]\n",
        "Y = data.iloc[:,-1]\n",
        "print(X.shape,Y.shape)"
      ],
      "execution_count": null,
      "outputs": [
        {
          "output_type": "stream",
          "text": [
            "(23, 1) (23,)\n"
          ],
          "name": "stdout"
        }
      ]
    },
    {
      "cell_type": "code",
      "metadata": {
        "colab": {
          "base_uri": "https://localhost:8080/"
        },
        "id": "e5G7BNdckMO7",
        "outputId": "0c79154b-b3e8-4558-ed7d-787a89ad6bd8"
      },
      "source": [
        "from sklearn.model_selection import train_test_split\n",
        "X_train,X_test,Y_train,Y_test = train_test_split(X,Y,test_size=.2,random_state=1)\n",
        "print(X_train.shape,X_test.shape)"
      ],
      "execution_count": null,
      "outputs": [
        {
          "output_type": "stream",
          "text": [
            "(18, 1) (5, 1)\n"
          ],
          "name": "stdout"
        }
      ]
    },
    {
      "cell_type": "code",
      "metadata": {
        "colab": {
          "base_uri": "https://localhost:8080/"
        },
        "id": "mD-NUbNMkzVf",
        "outputId": "a56f3d53-2536-4609-f83f-3504a3210acd"
      },
      "source": [
        "print(Y_train.shape, Y_test.shape)"
      ],
      "execution_count": null,
      "outputs": [
        {
          "output_type": "stream",
          "text": [
            "(18,) (5,)\n"
          ],
          "name": "stdout"
        }
      ]
    },
    {
      "cell_type": "code",
      "metadata": {
        "colab": {
          "base_uri": "https://localhost:8080/"
        },
        "id": "NafR2jXck6FT",
        "outputId": "0df8322c-9596-4a5c-eb55-b72d5f8d519a"
      },
      "source": [
        "from sklearn.linear_model import LinearRegression\n",
        "std_model  = LinearRegression()\n",
        "std_model.fit(X_train,Y_train)\n",
        "Y_pred = std_model.predict(X_test)\n",
        "print(Y_pred)"
      ],
      "execution_count": null,
      "outputs": [
        {
          "output_type": "stream",
          "text": [
            "[40.87711348 25.025345   32.95122924 34.9327003  42.85858454]\n"
          ],
          "name": "stdout"
        }
      ]
    },
    {
      "cell_type": "code",
      "metadata": {
        "colab": {
          "base_uri": "https://localhost:8080/"
        },
        "id": "-gko10YnlZkD",
        "outputId": "48b12b98-4af8-4f55-aa40-86fe92e45289"
      },
      "source": [
        "print(Y_test)"
      ],
      "execution_count": null,
      "outputs": [
        {
          "output_type": "stream",
          "text": [
            "20    40\n",
            "17    21\n",
            "3     33\n",
            "13    34\n",
            "19    42\n",
            "Name: Scores, dtype: int64\n"
          ],
          "name": "stdout"
        }
      ]
    },
    {
      "cell_type": "code",
      "metadata": {
        "colab": {
          "base_uri": "https://localhost:8080/"
        },
        "id": "428i2wYglg0O",
        "outputId": "a96a67ca-d327-49c6-be71-b377a8bab02f"
      },
      "source": [
        "print(X_test)"
      ],
      "execution_count": null,
      "outputs": [
        {
          "output_type": "stream",
          "text": [
            "    Hours\n",
            "20    4.1\n",
            "17    2.5\n",
            "3     3.3\n",
            "13    3.5\n",
            "19    4.3\n"
          ],
          "name": "stdout"
        }
      ]
    },
    {
      "cell_type": "code",
      "metadata": {
        "colab": {
          "base_uri": "https://localhost:8080/"
        },
        "id": "B-rZQahqlkzz",
        "outputId": "20a3b14d-d5fe-4be6-a47a-53ed03b7bdd4"
      },
      "source": [
        "print(std_model.coef_)"
      ],
      "execution_count": null,
      "outputs": [
        {
          "output_type": "stream",
          "text": [
            "[9.9073553]\n"
          ],
          "name": "stdout"
        }
      ]
    },
    {
      "cell_type": "code",
      "metadata": {
        "colab": {
          "base_uri": "https://localhost:8080/"
        },
        "id": "OeoUuJzVl1i3",
        "outputId": "fa65ac8a-d744-4ceb-e667-9253e50bae4c"
      },
      "source": [
        "print(std_model.intercept_)"
      ],
      "execution_count": null,
      "outputs": [
        {
          "output_type": "stream",
          "text": [
            "0.2569567372371395\n"
          ],
          "name": "stdout"
        }
      ]
    },
    {
      "cell_type": "code",
      "metadata": {
        "colab": {
          "base_uri": "https://localhost:8080/"
        },
        "id": "R8M_CyMElx3I",
        "outputId": "e533309b-4fff-4383-b165-86916249c4e8"
      },
      "source": [
        "from sklearn.metrics import r2_score, mean_squared_error\n",
        "print(\"accuracy is: \", r2_score(Y_test,Y_pred))"
      ],
      "execution_count": null,
      "outputs": [
        {
          "output_type": "stream",
          "text": [
            "accuracy is:  0.9311770139374417\n"
          ],
          "name": "stdout"
        }
      ]
    },
    {
      "cell_type": "code",
      "metadata": {
        "colab": {
          "base_uri": "https://localhost:8080/"
        },
        "id": "MNEYrcmql9ed",
        "outputId": "621d2a1e-dfb2-4d4a-bd67-84195eb19e53"
      },
      "source": [
        "print(mean_squared_error(Y_test,Y_pred))"
      ],
      "execution_count": null,
      "outputs": [
        {
          "output_type": "stream",
          "text": [
            "3.7164412473781487\n"
          ],
          "name": "stdout"
        }
      ]
    },
    {
      "cell_type": "code",
      "metadata": {
        "colab": {
          "base_uri": "https://localhost:8080/"
        },
        "id": "81Fzzh1tmG7E",
        "outputId": "6be0ec8b-fdac-45fc-9b67-aba2e8d5cd03"
      },
      "source": [
        "vif = 1/1-(r2_score(Y_test,Y_pred))\n",
        "vif"
      ],
      "execution_count": null,
      "outputs": [
        {
          "output_type": "execute_result",
          "data": {
            "text/plain": [
              "0.06882298606255832"
            ]
          },
          "metadata": {
            "tags": []
          },
          "execution_count": 52
        }
      ]
    },
    {
      "cell_type": "code",
      "metadata": {
        "id": "nn6FsywmmMhr"
      },
      "source": [
        ""
      ],
      "execution_count": null,
      "outputs": []
    }
  ]
}