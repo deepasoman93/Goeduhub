{
  "nbformat": 4,
  "nbformat_minor": 0,
  "metadata": {
    "colab": {
      "name": "GO_STP_7389-Assignment-4",
      "provenance": [],
      "collapsed_sections": [],
      "authorship_tag": "ABX9TyNktKOStce1WSpUq59GqxPQ",
      "include_colab_link": true
    },
    "kernelspec": {
      "name": "python3",
      "display_name": "Python 3"
    },
    "language_info": {
      "name": "python"
    }
  },
  "cells": [
    {
      "cell_type": "markdown",
      "metadata": {
        "id": "view-in-github",
        "colab_type": "text"
      },
      "source": [
        "<a href=\"https://colab.research.google.com/github/deepasoman93/Python_ML_Basics/blob/main/GO_STP_7389_Assignment_4.ipynb\" target=\"_parent\"><img src=\"https://colab.research.google.com/assets/colab-badge.svg\" alt=\"Open In Colab\"/></a>"
      ]
    },
    {
      "cell_type": "markdown",
      "metadata": {
        "id": "BNmL4bBiHWy-"
      },
      "source": [
        "# Assignment-4 | Numpy"
      ]
    },
    {
      "cell_type": "markdown",
      "metadata": {
        "id": "hKJgRa16HuLI"
      },
      "source": [
        "1. Import the numpy package under the name np and Print the numpy version and the configuration \n"
      ]
    },
    {
      "cell_type": "code",
      "metadata": {
        "colab": {
          "base_uri": "https://localhost:8080/"
        },
        "id": "va8tRiKrIXUa",
        "outputId": "f5e2d5fc-44a7-455b-af6b-9f2e5242ac34"
      },
      "source": [
        "import numpy as np\n",
        "np.__version__\n",
        "np.show_config()"
      ],
      "execution_count": null,
      "outputs": [
        {
          "output_type": "stream",
          "text": [
            "blas_mkl_info:\n",
            "  NOT AVAILABLE\n",
            "blis_info:\n",
            "  NOT AVAILABLE\n",
            "openblas_info:\n",
            "    libraries = ['openblas', 'openblas']\n",
            "    library_dirs = ['/usr/local/lib']\n",
            "    language = c\n",
            "    define_macros = [('HAVE_CBLAS', None)]\n",
            "blas_opt_info:\n",
            "    libraries = ['openblas', 'openblas']\n",
            "    library_dirs = ['/usr/local/lib']\n",
            "    language = c\n",
            "    define_macros = [('HAVE_CBLAS', None)]\n",
            "lapack_mkl_info:\n",
            "  NOT AVAILABLE\n",
            "openblas_lapack_info:\n",
            "    libraries = ['openblas', 'openblas']\n",
            "    library_dirs = ['/usr/local/lib']\n",
            "    language = c\n",
            "    define_macros = [('HAVE_CBLAS', None)]\n",
            "lapack_opt_info:\n",
            "    libraries = ['openblas', 'openblas']\n",
            "    library_dirs = ['/usr/local/lib']\n",
            "    language = c\n",
            "    define_macros = [('HAVE_CBLAS', None)]\n"
          ],
          "name": "stdout"
        }
      ]
    },
    {
      "cell_type": "markdown",
      "metadata": {
        "id": "LfQ9Fo5vJAbI"
      },
      "source": [
        "2. Create a null vector of size 10"
      ]
    },
    {
      "cell_type": "code",
      "metadata": {
        "colab": {
          "base_uri": "https://localhost:8080/"
        },
        "id": "Vo9lh_7BIhtH",
        "outputId": "3b0a8445-98e9-4bcf-f799-7f5d281df83f"
      },
      "source": [
        "np.zeros(10)"
      ],
      "execution_count": null,
      "outputs": [
        {
          "output_type": "execute_result",
          "data": {
            "text/plain": [
              "array([0., 0., 0., 0., 0., 0., 0., 0., 0., 0.])"
            ]
          },
          "metadata": {
            "tags": []
          },
          "execution_count": 2
        }
      ]
    },
    {
      "cell_type": "markdown",
      "metadata": {
        "id": "T6y12L8WJPwe"
      },
      "source": [
        "3. Create Simple 1-D array and check type and check data types in array"
      ]
    },
    {
      "cell_type": "code",
      "metadata": {
        "colab": {
          "base_uri": "https://localhost:8080/"
        },
        "id": "Il1uE1SwJJuq",
        "outputId": "b8e035aa-ca87-403e-8245-7505b85e7bb4"
      },
      "source": [
        "a = np.arange(0, 100)\n",
        "print('Type:', type(a))"
      ],
      "execution_count": null,
      "outputs": [
        {
          "output_type": "stream",
          "text": [
            "Type: <class 'numpy.ndarray'>\n"
          ],
          "name": "stdout"
        }
      ]
    },
    {
      "cell_type": "code",
      "metadata": {
        "colab": {
          "base_uri": "https://localhost:8080/"
        },
        "id": "HL_2MO2DJ4k2",
        "outputId": "651584c5-0d70-4b95-ac07-8107cef7095d"
      },
      "source": [
        "d= a.dtype\n",
        "print('Datatype:', d)"
      ],
      "execution_count": null,
      "outputs": [
        {
          "output_type": "stream",
          "text": [
            "Datatype: int64\n"
          ],
          "name": "stdout"
        }
      ]
    },
    {
      "cell_type": "markdown",
      "metadata": {
        "id": "a4F6lforKIf9"
      },
      "source": [
        "4. How to find number of dimensions, bytes per element and bytes of memory used?"
      ]
    },
    {
      "cell_type": "code",
      "metadata": {
        "colab": {
          "base_uri": "https://localhost:8080/"
        },
        "id": "0pSxnOliKCvj",
        "outputId": "ce602c12-5893-4047-bae3-4e3a766ef6c7"
      },
      "source": [
        "n = a.ndim\n",
        "print('No of dimensions:', n)"
      ],
      "execution_count": null,
      "outputs": [
        {
          "output_type": "stream",
          "text": [
            "No of dimensions: 1\n"
          ],
          "name": "stdout"
        }
      ]
    },
    {
      "cell_type": "code",
      "metadata": {
        "colab": {
          "base_uri": "https://localhost:8080/"
        },
        "id": "3mhtty_6LCu4",
        "outputId": "533c1ea6-b6a6-4924-96a4-43fdf2b4d3fa"
      },
      "source": [
        "n= a.itemsize\n",
        "print('No of bytes per element:',n)"
      ],
      "execution_count": null,
      "outputs": [
        {
          "output_type": "stream",
          "text": [
            "No of bytes per element: 8\n"
          ],
          "name": "stdout"
        }
      ]
    },
    {
      "cell_type": "code",
      "metadata": {
        "colab": {
          "base_uri": "https://localhost:8080/"
        },
        "id": "lxLEJnGCLQe2",
        "outputId": "0318c672-8c41-4bce-9f54-e35d417ced7b"
      },
      "source": [
        "b= a.nbytes\n",
        "print('No of bytes:',b)"
      ],
      "execution_count": null,
      "outputs": [
        {
          "output_type": "stream",
          "text": [
            "No of bytes: 800\n"
          ],
          "name": "stdout"
        }
      ]
    },
    {
      "cell_type": "markdown",
      "metadata": {
        "id": "Epa0QAaRL6eE"
      },
      "source": [
        "5. Create a null vector of size 10 but the fifth value which is 1"
      ]
    },
    {
      "cell_type": "code",
      "metadata": {
        "colab": {
          "base_uri": "https://localhost:8080/"
        },
        "id": "meuW9A4-L02D",
        "outputId": "ba2cfdcd-0715-4878-fbe2-10d5b044d69d"
      },
      "source": [
        "n = np.zeros(10)\n",
        "n[4] = 1\n",
        "print(n)"
      ],
      "execution_count": null,
      "outputs": [
        {
          "output_type": "stream",
          "text": [
            "[0. 0. 0. 0. 1. 0. 0. 0. 0. 0.]\n"
          ],
          "name": "stdout"
        }
      ]
    },
    {
      "cell_type": "markdown",
      "metadata": {
        "id": "pQ72WTYDMko1"
      },
      "source": [
        "6. Create a vector with values ranging from 10 to 49"
      ]
    },
    {
      "cell_type": "code",
      "metadata": {
        "colab": {
          "base_uri": "https://localhost:8080/"
        },
        "id": "YPrtgMZgMjCJ",
        "outputId": "4c900262-220b-4bb8-914a-82d8a760230d"
      },
      "source": [
        " n= np.arange(10,50)\n",
        " print(n)"
      ],
      "execution_count": null,
      "outputs": [
        {
          "output_type": "stream",
          "text": [
            "[10 11 12 13 14 15 16 17 18 19 20 21 22 23 24 25 26 27 28 29 30 31 32 33\n",
            " 34 35 36 37 38 39 40 41 42 43 44 45 46 47 48 49]\n"
          ],
          "name": "stdout"
        }
      ]
    },
    {
      "cell_type": "markdown",
      "metadata": {
        "id": "cP6NUdrwM22H"
      },
      "source": [
        "7. Reverse a vector (first element becomes last)"
      ]
    },
    {
      "cell_type": "code",
      "metadata": {
        "colab": {
          "base_uri": "https://localhost:8080/"
        },
        "id": "xvF8DRNpMz3N",
        "outputId": "68b5324a-eb19-4b93-b3b2-11cbede1cb75"
      },
      "source": [
        " n= np.arange(10,50)\n",
        " print(n[::-1])"
      ],
      "execution_count": null,
      "outputs": [
        {
          "output_type": "stream",
          "text": [
            "[49 48 47 46 45 44 43 42 41 40 39 38 37 36 35 34 33 32 31 30 29 28 27 26\n",
            " 25 24 23 22 21 20 19 18 17 16 15 14 13 12 11 10]\n"
          ],
          "name": "stdout"
        }
      ]
    },
    {
      "cell_type": "markdown",
      "metadata": {
        "id": "-CfSDWYcNTan"
      },
      "source": [
        "8. Create a 3x3 matrix with values ranging from 0 to 8"
      ]
    },
    {
      "cell_type": "code",
      "metadata": {
        "colab": {
          "base_uri": "https://localhost:8080/"
        },
        "id": "IhVUXhNrNKfL",
        "outputId": "b8c33b2b-229c-4023-9ce5-027e3b0a1450"
      },
      "source": [
        "n = np.arange(0,9)\n",
        "n.reshape(3,3)"
      ],
      "execution_count": null,
      "outputs": [
        {
          "output_type": "execute_result",
          "data": {
            "text/plain": [
              "array([[0, 1, 2],\n",
              "       [3, 4, 5],\n",
              "       [6, 7, 8]])"
            ]
          },
          "metadata": {
            "tags": []
          },
          "execution_count": 24
        }
      ]
    },
    {
      "cell_type": "markdown",
      "metadata": {
        "id": "EcmDNW8lNnp9"
      },
      "source": [
        "9. Find indices of non-zero elements from [1,2,0,0,4,0]"
      ]
    },
    {
      "cell_type": "code",
      "metadata": {
        "colab": {
          "base_uri": "https://localhost:8080/"
        },
        "id": "sJPrXxssNfct",
        "outputId": "49fe072a-3173-4c57-c6a7-ddf377df25aa"
      },
      "source": [
        "n = np.array([1, 2, 0, 0, 4, 0])\n",
        "np.nonzero(n)"
      ],
      "execution_count": null,
      "outputs": [
        {
          "output_type": "execute_result",
          "data": {
            "text/plain": [
              "(array([0, 1, 4]),)"
            ]
          },
          "metadata": {
            "tags": []
          },
          "execution_count": 25
        }
      ]
    },
    {
      "cell_type": "markdown",
      "metadata": {
        "id": "_aMBM57QOExU"
      },
      "source": [
        "10. Create a 3x3 identity matrix"
      ]
    },
    {
      "cell_type": "code",
      "metadata": {
        "colab": {
          "base_uri": "https://localhost:8080/"
        },
        "id": "lPuoQM55N-tr",
        "outputId": "d0796fba-6e40-4ee8-abd0-850da8be5ec4"
      },
      "source": [
        "np.identity(3)"
      ],
      "execution_count": null,
      "outputs": [
        {
          "output_type": "execute_result",
          "data": {
            "text/plain": [
              "array([[1., 0., 0.],\n",
              "       [0., 1., 0.],\n",
              "       [0., 0., 1.]])"
            ]
          },
          "metadata": {
            "tags": []
          },
          "execution_count": 26
        }
      ]
    },
    {
      "cell_type": "markdown",
      "metadata": {
        "id": "sK-5Sm4rOVd5"
      },
      "source": [
        "11. Create a 3x3x3 array with random values"
      ]
    },
    {
      "cell_type": "code",
      "metadata": {
        "colab": {
          "base_uri": "https://localhost:8080/"
        },
        "id": "mpZUfBf0OT0m",
        "outputId": "d22f7c38-b111-4814-e29f-789f9e8a3860"
      },
      "source": [
        "np.random.random((3, 3, 3))"
      ],
      "execution_count": null,
      "outputs": [
        {
          "output_type": "execute_result",
          "data": {
            "text/plain": [
              "array([[[0.15873448, 0.90733898, 0.41364209],\n",
              "        [0.54345932, 0.96432626, 0.05577944],\n",
              "        [0.82302637, 0.17938999, 0.88599365]],\n",
              "\n",
              "       [[0.02409823, 0.6873761 , 0.58732871],\n",
              "        [0.0515272 , 0.40957105, 0.11749806],\n",
              "        [0.94300938, 0.8404953 , 0.10650222]],\n",
              "\n",
              "       [[0.02135567, 0.54650287, 0.93359022],\n",
              "        [0.1384189 , 0.24286169, 0.36861263],\n",
              "        [0.3601689 , 0.28913246, 0.13366836]]])"
            ]
          },
          "metadata": {
            "tags": []
          },
          "execution_count": 27
        }
      ]
    },
    {
      "cell_type": "markdown",
      "metadata": {
        "id": "FhhW9kBZOg6f"
      },
      "source": [
        "12. Create a 10x10 array with random values and find the minimum and maximum values"
      ]
    },
    {
      "cell_type": "code",
      "metadata": {
        "colab": {
          "base_uri": "https://localhost:8080/"
        },
        "id": "kEmsRNhBOfbE",
        "outputId": "4a9cb387-3b60-40f4-aba8-fada30fbf8a2"
      },
      "source": [
        "n= np.random.random((10, 10))\n",
        "print(n)"
      ],
      "execution_count": null,
      "outputs": [
        {
          "output_type": "stream",
          "text": [
            "[[0.59144039 0.76574995 0.95702931 0.86832294 0.41492867 0.03182671\n",
            "  0.2481878  0.93823896 0.09860072 0.48118058]\n",
            " [0.82379671 0.30587583 0.78533739 0.62284336 0.91535863 0.52160141\n",
            "  0.53344875 0.40774163 0.79113022 0.81646585]\n",
            " [0.70378102 0.91794374 0.17784645 0.52927881 0.60179624 0.24532862\n",
            "  0.6196833  0.82705315 0.93333673 0.46343005]\n",
            " [0.2987396  0.28278244 0.16140525 0.15980997 0.11069974 0.80296426\n",
            "  0.26761423 0.46476955 0.83587211 0.58085828]\n",
            " [0.40149138 0.19561798 0.40758049 0.40184589 0.1703265  0.18002907\n",
            "  0.05997992 0.06857646 0.03219053 0.1723224 ]\n",
            " [0.19079784 0.8433248  0.71859946 0.99849942 0.92331516 0.47974272\n",
            "  0.30585205 0.84874262 0.52765658 0.26555625]\n",
            " [0.44230326 0.91583184 0.15660214 0.99941363 0.04240115 0.45791572\n",
            "  0.31009355 0.78206403 0.27197703 0.8593316 ]\n",
            " [0.5430464  0.77054286 0.28494131 0.98518663 0.75644347 0.77644483\n",
            "  0.39569939 0.91957348 0.58429087 0.32791603]\n",
            " [0.83271143 0.30064605 0.17053965 0.33169449 0.97283361 0.24761566\n",
            "  0.27794523 0.71270083 0.27647878 0.95697432]\n",
            " [0.3463463  0.48852384 0.76426702 0.66944301 0.40946681 0.18395591\n",
            "  0.07587823 0.16258136 0.65582255 0.07843994]]\n"
          ],
          "name": "stdout"
        }
      ]
    },
    {
      "cell_type": "code",
      "metadata": {
        "colab": {
          "base_uri": "https://localhost:8080/"
        },
        "id": "4VzMHtpZOswa",
        "outputId": "87b2dfa8-0e89-4e3d-9288-1893892e6ad8"
      },
      "source": [
        "np.min(n)"
      ],
      "execution_count": null,
      "outputs": [
        {
          "output_type": "execute_result",
          "data": {
            "text/plain": [
              "0.0318267065823965"
            ]
          },
          "metadata": {
            "tags": []
          },
          "execution_count": 31
        }
      ]
    },
    {
      "cell_type": "code",
      "metadata": {
        "colab": {
          "base_uri": "https://localhost:8080/"
        },
        "id": "wkoztzYLO0-s",
        "outputId": "918d33f9-1aab-4f6d-d7b8-413ee20a611a"
      },
      "source": [
        "np.max(n)"
      ],
      "execution_count": null,
      "outputs": [
        {
          "output_type": "execute_result",
          "data": {
            "text/plain": [
              "0.9994136331808287"
            ]
          },
          "metadata": {
            "tags": []
          },
          "execution_count": 32
        }
      ]
    },
    {
      "cell_type": "markdown",
      "metadata": {
        "id": "gyY1vuNXPDzu"
      },
      "source": [
        "13. Create a random vector of size 30 and find the mean value"
      ]
    },
    {
      "cell_type": "code",
      "metadata": {
        "colab": {
          "base_uri": "https://localhost:8080/"
        },
        "id": "LdCXgu2KPBgd",
        "outputId": "755fc9a4-e18b-4509-f44b-729fdc1caa89"
      },
      "source": [
        "n= np.random.random((30))\n",
        "print(n)"
      ],
      "execution_count": null,
      "outputs": [
        {
          "output_type": "stream",
          "text": [
            "[0.7260618  0.53228978 0.87336807 0.56341106 0.57416087 0.73801614\n",
            " 0.56290344 0.43071625 0.82056354 0.11301657 0.25026614 0.75088122\n",
            " 0.46240524 0.64580963 0.94134469 0.33366688 0.11144422 0.98181917\n",
            " 0.65770797 0.37639624 0.99533804 0.20125173 0.3513629  0.68733322\n",
            " 0.25776175 0.52379868 0.34061976 0.1339807  0.294304   0.12477793]\n"
          ],
          "name": "stdout"
        }
      ]
    },
    {
      "cell_type": "code",
      "metadata": {
        "colab": {
          "base_uri": "https://localhost:8080/"
        },
        "id": "3Ez-u809PH-t",
        "outputId": "2993b20d-77cf-433c-d7f3-4b397f920133"
      },
      "source": [
        "np.mean(n)"
      ],
      "execution_count": null,
      "outputs": [
        {
          "output_type": "execute_result",
          "data": {
            "text/plain": [
              "0.5118925874649483"
            ]
          },
          "metadata": {
            "tags": []
          },
          "execution_count": 35
        }
      ]
    },
    {
      "cell_type": "markdown",
      "metadata": {
        "id": "LzAFcCWAPmj7"
      },
      "source": [
        "14. Create a 2d array with 1 on the border and 0 inside"
      ]
    },
    {
      "cell_type": "code",
      "metadata": {
        "colab": {
          "base_uri": "https://localhost:8080/"
        },
        "id": "PpYYPokiPaKs",
        "outputId": "28730235-85f9-48fc-8028-e97e9afcd769"
      },
      "source": [
        "n = np.ones((10,10))\n",
        "n[1:9, 1:9] = 0\n",
        "print(n)"
      ],
      "execution_count": null,
      "outputs": [
        {
          "output_type": "stream",
          "text": [
            "[[1. 1. 1. 1. 1. 1. 1. 1. 1. 1.]\n",
            " [1. 0. 0. 0. 0. 0. 0. 0. 0. 1.]\n",
            " [1. 0. 0. 0. 0. 0. 0. 0. 0. 1.]\n",
            " [1. 0. 0. 0. 0. 0. 0. 0. 0. 1.]\n",
            " [1. 0. 0. 0. 0. 0. 0. 0. 0. 1.]\n",
            " [1. 0. 0. 0. 0. 0. 0. 0. 0. 1.]\n",
            " [1. 0. 0. 0. 0. 0. 0. 0. 0. 1.]\n",
            " [1. 0. 0. 0. 0. 0. 0. 0. 0. 1.]\n",
            " [1. 0. 0. 0. 0. 0. 0. 0. 0. 1.]\n",
            " [1. 1. 1. 1. 1. 1. 1. 1. 1. 1.]]\n"
          ],
          "name": "stdout"
        }
      ]
    },
    {
      "cell_type": "markdown",
      "metadata": {
        "id": "0QOM5hvRQD4y"
      },
      "source": [
        "15. How to add a border (filled with 0's) around an existing array? "
      ]
    },
    {
      "cell_type": "code",
      "metadata": {
        "colab": {
          "base_uri": "https://localhost:8080/"
        },
        "id": "tL1zyYJGP483",
        "outputId": "f58b7350-a70b-4e72-b956-f17febf27c8e"
      },
      "source": [
        "n = np.ones((10,10))\n",
        "print('Before', n)\n",
        "\n",
        "n[:1, :] = 0\n",
        "n[:, :1] = 0\n",
        "n[9:, :] = 0\n",
        "n[:, 9:] = 0\n",
        "print('After', n)"
      ],
      "execution_count": null,
      "outputs": [
        {
          "output_type": "stream",
          "text": [
            "Before [[1. 1. 1. 1. 1. 1. 1. 1. 1. 1.]\n",
            " [1. 1. 1. 1. 1. 1. 1. 1. 1. 1.]\n",
            " [1. 1. 1. 1. 1. 1. 1. 1. 1. 1.]\n",
            " [1. 1. 1. 1. 1. 1. 1. 1. 1. 1.]\n",
            " [1. 1. 1. 1. 1. 1. 1. 1. 1. 1.]\n",
            " [1. 1. 1. 1. 1. 1. 1. 1. 1. 1.]\n",
            " [1. 1. 1. 1. 1. 1. 1. 1. 1. 1.]\n",
            " [1. 1. 1. 1. 1. 1. 1. 1. 1. 1.]\n",
            " [1. 1. 1. 1. 1. 1. 1. 1. 1. 1.]\n",
            " [1. 1. 1. 1. 1. 1. 1. 1. 1. 1.]]\n",
            "After [[0. 0. 0. 0. 0. 0. 0. 0. 0. 0.]\n",
            " [0. 1. 1. 1. 1. 1. 1. 1. 1. 0.]\n",
            " [0. 1. 1. 1. 1. 1. 1. 1. 1. 0.]\n",
            " [0. 1. 1. 1. 1. 1. 1. 1. 1. 0.]\n",
            " [0. 1. 1. 1. 1. 1. 1. 1. 1. 0.]\n",
            " [0. 1. 1. 1. 1. 1. 1. 1. 1. 0.]\n",
            " [0. 1. 1. 1. 1. 1. 1. 1. 1. 0.]\n",
            " [0. 1. 1. 1. 1. 1. 1. 1. 1. 0.]\n",
            " [0. 1. 1. 1. 1. 1. 1. 1. 1. 0.]\n",
            " [0. 0. 0. 0. 0. 0. 0. 0. 0. 0.]]\n"
          ],
          "name": "stdout"
        }
      ]
    },
    {
      "cell_type": "markdown",
      "metadata": {
        "id": "363ZJ9ifRS2a"
      },
      "source": [
        "16. How to Accessing/Changing specific elements, rows, columns, etc in Numpy array?\n",
        "\n",
        "Example -\n",
        "[[ 1 2 3 4 5 6 7] [ 8 9 10 11 12 13 14]]\n",
        "\n",
        "Get 13, get first row only, get 3rd column only, get [2, 4, 6], replace 13 by 20"
      ]
    },
    {
      "cell_type": "code",
      "metadata": {
        "colab": {
          "base_uri": "https://localhost:8080/"
        },
        "id": "-jVZU0YfQjfs",
        "outputId": "7c78efd5-ce8d-44ce-c546-acc33d47826b"
      },
      "source": [
        "i = np.arange(1,15).reshape(2,7)\n",
        "print(i)"
      ],
      "execution_count": null,
      "outputs": [
        {
          "output_type": "stream",
          "text": [
            "[[ 1  2  3  4  5  6  7]\n",
            " [ 8  9 10 11 12 13 14]]\n"
          ],
          "name": "stdout"
        }
      ]
    },
    {
      "cell_type": "code",
      "metadata": {
        "colab": {
          "base_uri": "https://localhost:8080/"
        },
        "id": "db-Me2nYR7n1",
        "outputId": "ffdbbae7-faee-49ca-dea8-002c5bcc23c7"
      },
      "source": [
        "i[1,5]"
      ],
      "execution_count": null,
      "outputs": [
        {
          "output_type": "execute_result",
          "data": {
            "text/plain": [
              "13"
            ]
          },
          "metadata": {
            "tags": []
          },
          "execution_count": 46
        }
      ]
    },
    {
      "cell_type": "code",
      "metadata": {
        "colab": {
          "base_uri": "https://localhost:8080/"
        },
        "id": "fQN3RZ5SSLrZ",
        "outputId": "dd35eaf9-a092-43d6-d4f5-9dfb65a59cec"
      },
      "source": [
        "i[0,:]"
      ],
      "execution_count": null,
      "outputs": [
        {
          "output_type": "execute_result",
          "data": {
            "text/plain": [
              "array([1, 2, 3, 4, 5, 6, 7])"
            ]
          },
          "metadata": {
            "tags": []
          },
          "execution_count": 47
        }
      ]
    },
    {
      "cell_type": "code",
      "metadata": {
        "colab": {
          "base_uri": "https://localhost:8080/"
        },
        "id": "mlnW9SxbSP5V",
        "outputId": "03ef49d4-132d-413d-e2ef-693fe1339d8b"
      },
      "source": [
        "i[:,2]"
      ],
      "execution_count": null,
      "outputs": [
        {
          "output_type": "execute_result",
          "data": {
            "text/plain": [
              "array([ 3, 10])"
            ]
          },
          "metadata": {
            "tags": []
          },
          "execution_count": 48
        }
      ]
    },
    {
      "cell_type": "code",
      "metadata": {
        "colab": {
          "base_uri": "https://localhost:8080/"
        },
        "id": "mg02D8jvSbBj",
        "outputId": "439d08bf-a813-4c65-9b70-f9a6390552fb"
      },
      "source": [
        "i[0,1::2]"
      ],
      "execution_count": null,
      "outputs": [
        {
          "output_type": "execute_result",
          "data": {
            "text/plain": [
              "array([2, 4, 6])"
            ]
          },
          "metadata": {
            "tags": []
          },
          "execution_count": 49
        }
      ]
    },
    {
      "cell_type": "code",
      "metadata": {
        "colab": {
          "base_uri": "https://localhost:8080/"
        },
        "id": "aAJHa9vtSdYU",
        "outputId": "42b450f5-7290-463b-f6c8-7b3fcb01db5c"
      },
      "source": [
        "i[1,5] = 20\n",
        "print(i)"
      ],
      "execution_count": null,
      "outputs": [
        {
          "output_type": "stream",
          "text": [
            "[[ 1  2  3  4  5  6  7]\n",
            " [ 8  9 10 11 12 20 14]]\n"
          ],
          "name": "stdout"
        }
      ]
    },
    {
      "cell_type": "markdown",
      "metadata": {
        "id": "pg4g1TXxSmsP"
      },
      "source": [
        "17. How to Convert a 1D array to a 2D array with 2 rows"
      ]
    },
    {
      "cell_type": "code",
      "metadata": {
        "colab": {
          "base_uri": "https://localhost:8080/"
        },
        "id": "_KqjycIzSegk",
        "outputId": "2b8ed4d9-c314-4a7a-c6f1-27738e1e13d2"
      },
      "source": [
        "n = np.arange(0,8)\n",
        "n"
      ],
      "execution_count": null,
      "outputs": [
        {
          "output_type": "execute_result",
          "data": {
            "text/plain": [
              "array([0, 1, 2, 3, 4, 5, 6, 7])"
            ]
          },
          "metadata": {
            "tags": []
          },
          "execution_count": 56
        }
      ]
    },
    {
      "cell_type": "code",
      "metadata": {
        "colab": {
          "base_uri": "https://localhost:8080/"
        },
        "id": "5H5N6y2NS_yb",
        "outputId": "7c1c98eb-7ac7-4f78-a3bb-75f9a35d0b2b"
      },
      "source": [
        "n.reshape((2,4))"
      ],
      "execution_count": null,
      "outputs": [
        {
          "output_type": "execute_result",
          "data": {
            "text/plain": [
              "array([[0, 1, 2, 3],\n",
              "       [4, 5, 6, 7]])"
            ]
          },
          "metadata": {
            "tags": []
          },
          "execution_count": 57
        }
      ]
    },
    {
      "cell_type": "markdown",
      "metadata": {
        "id": "6YT8URaqTUo2"
      },
      "source": [
        "18. Create the following pattern without hardcoding. Use only numpy functions and the below input array a.\n",
        "\n",
        "Input:\n",
        "a = np.array([1,2,3])`\n",
        "\n",
        "Desired Output:\n",
        "array([1, 1, 1, 2, 2, 2, 3, 3, 3, 1, 2, 3, 1, 2, 3, 1, 2, 3])"
      ]
    },
    {
      "cell_type": "code",
      "metadata": {
        "colab": {
          "base_uri": "https://localhost:8080/"
        },
        "id": "-CMEz7bqTGsb",
        "outputId": "a6932140-d205-4d2f-8e4b-40c499ba9cfa"
      },
      "source": [
        "a = np.array([1, 2, 3])\n",
        "np.append(np.repeat(a,3), np.tile(a,3))"
      ],
      "execution_count": null,
      "outputs": [
        {
          "output_type": "execute_result",
          "data": {
            "text/plain": [
              "array([1, 1, 1, 2, 2, 2, 3, 3, 3, 1, 2, 3, 1, 2, 3, 1, 2, 3])"
            ]
          },
          "metadata": {
            "tags": []
          },
          "execution_count": 58
        }
      ]
    },
    {
      "cell_type": "markdown",
      "metadata": {
        "id": "PtFXRfuqTsFi"
      },
      "source": [
        "19. Write a program to show how Numpy taking less memory compared to Python List?"
      ]
    },
    {
      "cell_type": "code",
      "metadata": {
        "colab": {
          "base_uri": "https://localhost:8080/"
        },
        "id": "RU187l7_TndL",
        "outputId": "610815a2-bebb-4b0f-c2a0-a3c936750627"
      },
      "source": [
        "import sys\n",
        "n= [0,1,2,3,4,5,6,7,8]\n",
        "sys.getsizeof(n) * len(n)"
      ],
      "execution_count": null,
      "outputs": [
        {
          "output_type": "execute_result",
          "data": {
            "text/plain": [
              "1296"
            ]
          },
          "metadata": {
            "tags": []
          },
          "execution_count": 61
        }
      ]
    },
    {
      "cell_type": "code",
      "metadata": {
        "colab": {
          "base_uri": "https://localhost:8080/"
        },
        "id": "abFGO5g6ULgi",
        "outputId": "a58d6d7a-e35f-4a8a-e14b-dd7885b58aed"
      },
      "source": [
        "a = np.arange(9)\n",
        "a.size * a.itemsize"
      ],
      "execution_count": null,
      "outputs": [
        {
          "output_type": "execute_result",
          "data": {
            "text/plain": [
              "72"
            ]
          },
          "metadata": {
            "tags": []
          },
          "execution_count": 63
        }
      ]
    },
    {
      "cell_type": "markdown",
      "metadata": {
        "id": "KvapvP5BU0iQ"
      },
      "source": [
        "20. Write a program to show how Numpy taking less time compared to Python List?"
      ]
    },
    {
      "cell_type": "code",
      "metadata": {
        "colab": {
          "base_uri": "https://localhost:8080/"
        },
        "id": "TGkgZxQkVAE6",
        "outputId": "ac58f12f-349d-472d-d364-b72712337336"
      },
      "source": [
        "S= range(10)\n",
        "print(\"Size of each element of list in bytes: \",sys.getsizeof(S))\n",
        "print(\"Size of the whole list in bytes: \",sys.getsizeof(S)*len(S))\n",
        "  \n",
        "D= np.arange(10)\n",
        "print(\"Size of each element of the Numpy array in bytes: \",D.itemsize)\n",
        "print(\"Size of the whole Numpy array in bytes: \",D.size*D.itemsize)"
      ],
      "execution_count": null,
      "outputs": [
        {
          "output_type": "stream",
          "text": [
            "Size of each element of list in bytes:  48\n",
            "Size of the whole list in bytes:  480\n",
            "Size of each element of the Numpy array in bytes:  8\n",
            "Size of the whole Numpy array in bytes:  80\n"
          ],
          "name": "stdout"
        }
      ]
    },
    {
      "cell_type": "code",
      "metadata": {
        "id": "PeBJYh6GV4Wq"
      },
      "source": [
        ""
      ],
      "execution_count": null,
      "outputs": []
    }
  ]
}